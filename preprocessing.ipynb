{
 "cells": [
  {
   "cell_type": "code",
   "execution_count": 2,
   "id": "615b4de8",
   "metadata": {},
   "outputs": [],
   "source": [
    "#from osgeo import gdal\n",
    "import os"
   ]
  },
  {
   "cell_type": "code",
   "execution_count": null,
   "id": "d61cfddf",
   "metadata": {},
   "outputs": [],
   "source": [
    "root = \"C:\\\\Users\\\\yaroslav\\\\Desktop\\\\segm_burned_area\\\\images\"\n",
    "for dirpath, dirnames, filenames in os.walk(root):\n",
    "    for f in filenames:\n",
    "        \n",
    "        options_list = [\n",
    "            '-of PNG',\n",
    "        ]           \n",
    "\n",
    "        options_string = \" \".join(options_list)\n",
    "\n",
    "        gdal.Translate(\n",
    "            f\"translated/{f.replace('.tif','')}.png\", 'images/'+f, options=options_string\n",
    "        )"
   ]
  },
  {
   "cell_type": "code",
   "execution_count": 18,
   "id": "4cc71792",
   "metadata": {},
   "outputs": [
    {
     "name": "stderr",
     "output_type": "stream",
     "text": [
      "C:\\Users\\yaroslav\\.conda\\envs\\gdal\\lib\\site-packages\\ipykernel_launcher.py:10: DeprecationWarning: LANCZOS is deprecated and will be removed in Pillow 10 (2023-07-01). Use Resampling.LANCZOS instead.\n",
      "  # Remove the CWD from sys.path while we load stuff.\n"
     ]
    }
   ],
   "source": [
    "from PIL import Image\n",
    "\n",
    "root = \"C:\\\\Users\\\\yaroslav\\\\Desktop\\\\segm_burned_area\\\\translated\"\n",
    "for dirpath, dirnames, filenames in os.walk(root)[]:\n",
    "    for f in filenames:\n",
    "        if f.endswith(\".png\"):\n",
    "            im = Image.open(f\"translated/{f}\")\n",
    "            im = im.rotate(16)\n",
    "            im = im.crop((867, 849, 6911, 7021))\n",
    "            im = im.resize((256, 256), Image.LANCZOS)\n",
    "            im.save(f\"ready_img/{f[:-4]}.jpg\")\n",
    "            im.close()"
   ]
  },
  {
   "cell_type": "code",
   "execution_count": 23,
   "id": "ee7341d7",
   "metadata": {},
   "outputs": [
    {
     "name": "stderr",
     "output_type": "stream",
     "text": [
      "/tmp/ipykernel_14552/520701447.py:9: DeprecationWarning: BICUBIC is deprecated and will be removed in Pillow 10 (2023-07-01). Use Resampling.BICUBIC instead.\n",
      "  im = im.resize((1918, 1280), Image.BICUBIC)\n"
     ]
    }
   ],
   "source": [
    "from PIL import Image\n",
    "import numpy as np\n",
    "\n",
    "root = \"masks/\"\n",
    "for dirpath, dirnames, filenames in os.walk(root):\n",
    "    for f in filenames:\n",
    "        if f.endswith(\".png\"):\n",
    "            im = Image.open(f\"masks/{f}\")\n",
    "            im = im.resize((1918, 1280), Image.BICUBIC)\n",
    "            for w in range(im.size[0]):\n",
    "                for h in range(im.size[1]):\n",
    "                    if im.getpixel((w, h)) != 0:\n",
    "                        im.putpixel((w, h), 255)\n",
    "            im.save(f)"
   ]
  },
  {
   "cell_type": "code",
   "execution_count": null,
   "id": "d36c4318",
   "metadata": {},
   "outputs": [],
   "source": []
  }
 ],
 "metadata": {
  "kernelspec": {
   "display_name": "Python 3 (ipykernel)",
   "language": "python",
   "name": "python3"
  },
  "language_info": {
   "codemirror_mode": {
    "name": "ipython",
    "version": 3
   },
   "file_extension": ".py",
   "mimetype": "text/x-python",
   "name": "python",
   "nbconvert_exporter": "python",
   "pygments_lexer": "ipython3",
   "version": "3.9.13"
  }
 },
 "nbformat": 4,
 "nbformat_minor": 5
}
