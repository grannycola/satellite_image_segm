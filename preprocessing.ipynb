{
 "cells": [
  {
   "cell_type": "code",
   "execution_count": 1,
   "id": "f2c97957",
   "metadata": {},
   "outputs": [],
   "source": [
    "# from osgeo import gdal\n",
    "import os\n",
    "import cv2\n",
    "from patchify import patchify\n",
    "import tifffile as tiff"
   ]
  },
  {
   "cell_type": "code",
   "execution_count": 14,
   "id": "615b4de8",
   "metadata": {},
   "outputs": [],
   "source": [
    "root = \"C:\\\\Users\\\\yaroslav\\\\Desktop\\\\segm_burned_area\\\\images\"\n",
    "for dirpath, dirnames, filenames in os.walk(root):\n",
    "    for f in filenames:\n",
    "        \n",
    "        options_list = [\n",
    "            '-of PNG',\n",
    "        ]           \n",
    "\n",
    "        options_string = \" \".join(options_list)\n",
    "\n",
    "        gdal.Translate(\n",
    "            f\"translated/{f.replace('.tif','')}.png\", 'images/'+f, options=options_string\n",
    "        )"
   ]
  },
  {
   "cell_type": "code",
   "execution_count": 18,
   "id": "4cc71792",
   "metadata": {},
   "outputs": [
    {
     "name": "stderr",
     "output_type": "stream",
     "text": [
      "C:\\Users\\yaroslav\\.conda\\envs\\gdal\\lib\\site-packages\\ipykernel_launcher.py:10: DeprecationWarning: LANCZOS is deprecated and will be removed in Pillow 10 (2023-07-01). Use Resampling.LANCZOS instead.\n",
      "  # Remove the CWD from sys.path while we load stuff.\n"
     ]
    }
   ],
   "source": [
    "from PIL import Image\n",
    "\n",
    "root = \"C:\\\\Users\\\\yaroslav\\\\Desktop\\\\segm_burned_area\\\\translated\"\n",
    "for dirpath, dirnames, filenames in os.walk(root):\n",
    "    for f in filenames:\n",
    "        if f.endswith(\".png\"):\n",
    "            im = Image.open(f\"translated/{f}\")\n",
    "            im = im.rotate(16)\n",
    "            im = im.crop((867, 849, 6911, 7021))\n",
    "            im = im.resize((256, 256), Image.LANCZOS)\n",
    "            im.save(f\"ready_img/{f}\")\n",
    "            im.close()"
   ]
  },
  {
   "cell_type": "code",
   "execution_count": 4,
   "id": "3adfdcc6",
   "metadata": {},
   "outputs": [],
   "source": [
    "def patchify_dir(dir1, dir2):\n",
    "    names = os.listdir(f\"GID/{dir1}/\")\n",
    "    for name in names[:101]:\n",
    "        if name.endswith('.png'):\n",
    "            fullname = os.path.join(f\"GID/{dir1}/\", name)\n",
    "            large_image = cv2.imread(fullname)\n",
    "            patches_img = patchify(large_image, (256, 256, 3), step=256)\n",
    "            for i in range(patches_img.shape[0]):\n",
    "                for j in range(patches_img.shape[1]):\n",
    "                    single_patch_img = patches_img[i,j,:,:,:]\n",
    "                    tiff.imwrite(f'patches/{dir2}/' + str(name[:-4]) + '_' + str(i)+str(j)+ \".tif\", single_patch_img)"
   ]
  },
  {
   "cell_type": "code",
   "execution_count": 5,
   "id": "2b5fa9b7",
   "metadata": {},
   "outputs": [],
   "source": [
    "patchify_dir(\"ann_dir/train\", \"masks/train\")"
   ]
  }
 ],
 "metadata": {
  "kernelspec": {
   "display_name": "Python 3 (ipykernel)",
   "language": "python",
   "name": "python3"
  },
  "language_info": {
   "codemirror_mode": {
    "name": "ipython",
    "version": 3
   },
   "file_extension": ".py",
   "mimetype": "text/x-python",
   "name": "python",
   "nbconvert_exporter": "python",
   "pygments_lexer": "ipython3",
   "version": "3.8.13"
  }
 },
 "nbformat": 4,
 "nbformat_minor": 5
}
