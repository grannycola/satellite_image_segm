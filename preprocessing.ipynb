{
 "cells": [
  {
   "cell_type": "code",
   "execution_count": 10,
   "id": "615b4de8",
   "metadata": {},
   "outputs": [],
   "source": [
    "from osgeo import gdal\n",
    "import os\n",
    "\n",
    "\n",
    "root = \"C:\\\\Users\\\\Ярослав\\\\Desktop\\\\project_2\\\\images\"\n",
    "for dirpath, dirnames, filenames in os.walk(root):\n",
    "    for f in filenames:\n",
    "        \n",
    "        options_list = [\n",
    "            '-of PNG',\n",
    "        ]           \n",
    "\n",
    "        options_string = \" \".join(options_list)\n",
    "\n",
    "        gdal.Translate(\n",
    "            f\"translated/{f.replace('.tif','')}.png\", 'images/'+f, options=options_string\n",
    "        )"
   ]
  },
  {
   "cell_type": "code",
   "execution_count": 21,
   "id": "4cc71792",
   "metadata": {},
   "outputs": [],
   "source": [
    "from PIL import Image\n",
    "\n",
    "root = \"C:\\\\Users\\\\Ярослав\\\\Desktop\\\\project_2\\\\translated\"\n",
    "for dirpath, dirnames, filenames in os.walk(root):\n",
    "    for f in filenames:\n",
    "        if f.endswith(\".png\"):\n",
    "            im = Image.open(f\"translated/{f}\")\n",
    "            im = im.rotate(14)\n",
    "            im = im.crop((867, 849, 6911, 7021))\n",
    "            im = im.resize((256, 256), Image.LANCZOS)\n",
    "            im.save(f\"ready_img/{f}\")\n",
    "            im.close()"
   ]
  }
 ],
 "metadata": {
  "kernelspec": {
   "display_name": "Python 3",
   "language": "python",
   "name": "python3"
  },
  "language_info": {
   "codemirror_mode": {
    "name": "ipython",
    "version": 3
   },
   "file_extension": ".py",
   "mimetype": "text/x-python",
   "name": "python",
   "nbconvert_exporter": "python",
   "pygments_lexer": "ipython3",
   "version": "3.6.13"
  }
 },
 "nbformat": 4,
 "nbformat_minor": 5
}
